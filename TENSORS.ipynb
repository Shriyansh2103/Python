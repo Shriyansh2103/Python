{
  "nbformat": 4,
  "nbformat_minor": 0,
  "metadata": {
    "colab": {
      "provenance": []
    },
    "kernelspec": {
      "name": "python3",
      "display_name": "Python 3"
    },
    "language_info": {
      "name": "python"
    }
  },
  "cells": [
    {
      "cell_type": "code",
      "execution_count": 1,
      "metadata": {
        "id": "Yb-2APXDhqVj"
      },
      "outputs": [],
      "source": [
        "###TENSORS\n",
        "# A torch.Tensor is a multi-dimensional matrix containing elements of a single data type.\n",
        "\n",
        "# Similar To Numpy Arrays, but full of fun things that make them work better on GPU's (vs regular CPU's).\n",
        "\n",
        "# default data type of float32.\n",
        "\n",
        "# More suitable for deep learning than a numpy array."
      ]
    },
    {
      "cell_type": "code",
      "source": [
        "\n",
        "import torch\n",
        "import numpy as np"
      ],
      "metadata": {
        "id": "1F0vYyU7hv-2"
      },
      "execution_count": 2,
      "outputs": []
    },
    {
      "cell_type": "markdown",
      "source": [
        "\n",
        "\n",
        "**LISTS**"
      ],
      "metadata": {
        "id": "aIWHR68khyFI"
      }
    },
    {
      "cell_type": "code",
      "source": [
        "my_list = [[1,2,3,4,5], [6,7,8,9,10]]\n",
        "my_list\n"
      ],
      "metadata": {
        "colab": {
          "base_uri": "https://localhost:8080/"
        },
        "id": "a1Slj9O2hxlF",
        "outputId": "3250072b-61c5-45f6-99b2-a41329677ccf"
      },
      "execution_count": 3,
      "outputs": [
        {
          "output_type": "execute_result",
          "data": {
            "text/plain": [
              "[[1, 2, 3, 4, 5], [6, 7, 8, 9, 10]]"
            ]
          },
          "metadata": {},
          "execution_count": 3
        }
      ]
    },
    {
      "cell_type": "markdown",
      "source": [
        "**NUMPY ARRAYS**"
      ],
      "metadata": {
        "id": "Zh5RRR09h7s7"
      }
    },
    {
      "cell_type": "code",
      "source": [
        "np1 = np.random.rand(3,4)\n",
        "np1\n",
        "\n",
        ""
      ],
      "metadata": {
        "colab": {
          "base_uri": "https://localhost:8080/"
        },
        "id": "Upi-JIGch5Nm",
        "outputId": "8d208591-75e9-414d-c8ad-23143f1769d0"
      },
      "execution_count": 4,
      "outputs": [
        {
          "output_type": "execute_result",
          "data": {
            "text/plain": [
              "array([[0.09532139, 0.50204632, 0.92028409, 0.48615838],\n",
              "       [0.64558131, 0.08432526, 0.11150943, 0.39842084],\n",
              "       [0.80425662, 0.66541641, 0.9510379 , 0.80042435]])"
            ]
          },
          "metadata": {},
          "execution_count": 4
        }
      ]
    },
    {
      "cell_type": "code",
      "source": [
        "\n",
        "np1.dtype"
      ],
      "metadata": {
        "colab": {
          "base_uri": "https://localhost:8080/"
        },
        "id": "ip21XMweiAg3",
        "outputId": "2779d0b9-17d2-4dc7-f438-fa9529906ac8"
      },
      "execution_count": 5,
      "outputs": [
        {
          "output_type": "execute_result",
          "data": {
            "text/plain": [
              "dtype('float64')"
            ]
          },
          "metadata": {},
          "execution_count": 5
        }
      ]
    },
    {
      "cell_type": "markdown",
      "source": [
        "**TENSORS**"
      ],
      "metadata": {
        "id": "RCId2EUZiDhs"
      }
    },
    {
      "cell_type": "code",
      "source": [
        "tensor_2d = torch.randn(3,4)\n",
        "tensor_2d\n",
        "#tensor_2d.dtype\n",
        ""
      ],
      "metadata": {
        "colab": {
          "base_uri": "https://localhost:8080/"
        },
        "id": "_P1xEnnLiCDw",
        "outputId": "73c66e05-4fdb-49d5-fe94-2461601929be"
      },
      "execution_count": 6,
      "outputs": [
        {
          "output_type": "execute_result",
          "data": {
            "text/plain": [
              "tensor([[ 0.3646, -1.3360, -0.7767,  0.4635],\n",
              "        [ 0.3859,  0.0717,  0.3857, -0.6476],\n",
              "        [-0.8292,  0.1829, -1.0210,  0.1908]])"
            ]
          },
          "metadata": {},
          "execution_count": 6
        }
      ]
    },
    {
      "cell_type": "code",
      "source": [
        "tensor_3d = torch.zeros(2,3,4)\n",
        "tensor_3d"
      ],
      "metadata": {
        "colab": {
          "base_uri": "https://localhost:8080/"
        },
        "id": "uFwBjsypiIXw",
        "outputId": "edd3aafd-6d98-406e-bdfa-7fb37d1b3ca9"
      },
      "execution_count": 7,
      "outputs": [
        {
          "output_type": "execute_result",
          "data": {
            "text/plain": [
              "tensor([[[0., 0., 0., 0.],\n",
              "         [0., 0., 0., 0.],\n",
              "         [0., 0., 0., 0.]],\n",
              "\n",
              "        [[0., 0., 0., 0.],\n",
              "         [0., 0., 0., 0.],\n",
              "         [0., 0., 0., 0.]]])"
            ]
          },
          "metadata": {},
          "execution_count": 7
        }
      ]
    },
    {
      "cell_type": "code",
      "source": [
        "## Create tensor out of numpy array\n",
        "my_tensor = torch.tensor(np1)\n",
        "my_tensor"
      ],
      "metadata": {
        "id": "C9sl2S-ciK0S",
        "outputId": "7cf4e234-7094-4109-e078-0e4c79e1e02f",
        "colab": {
          "base_uri": "https://localhost:8080/"
        }
      },
      "execution_count": 8,
      "outputs": [
        {
          "output_type": "execute_result",
          "data": {
            "text/plain": [
              "tensor([[0.0953, 0.5020, 0.9203, 0.4862],\n",
              "        [0.6456, 0.0843, 0.1115, 0.3984],\n",
              "        [0.8043, 0.6654, 0.9510, 0.8004]], dtype=torch.float64)"
            ]
          },
          "metadata": {},
          "execution_count": 8
        }
      ]
    },
    {
      "cell_type": "code",
      "source": [],
      "metadata": {
        "id": "ISunT3DGiNDR"
      },
      "execution_count": null,
      "outputs": []
    }
  ]
}